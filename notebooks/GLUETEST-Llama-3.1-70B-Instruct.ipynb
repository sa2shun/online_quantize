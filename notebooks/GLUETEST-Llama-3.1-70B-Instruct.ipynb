{
 "cells": [
  {
   "cell_type": "code",
   "execution_count": 1,
   "id": "5b16eac0-78a2-429e-b5d2-bfd712377da4",
   "metadata": {},
   "outputs": [
    {
     "name": "stdout",
     "output_type": "stream",
     "text": [
      "Model will be saved to: /raid/sasaki/meta-llama_Llama-3.1-70B-Instruct\n"
     ]
    },
    {
     "data": {
      "application/vnd.jupyter.widget-view+json": {
       "model_id": "c657f4bc988d429399aef18f90eb41cb",
       "version_major": 2,
       "version_minor": 0
      },
      "text/plain": [
       "Loading checkpoint shards:   0%|          | 0/30 [00:00<?, ?it/s]"
      ]
     },
     "metadata": {},
     "output_type": "display_data"
    },
    {
     "data": {
      "application/vnd.jupyter.widget-view+json": {
       "model_id": "3bf63a3b28c54b3289c9740387cb5e5e",
       "version_major": 2,
       "version_minor": 0
      },
      "text/plain": [
       "Loading checkpoint shards:   0%|          | 0/30 [00:00<?, ?it/s]"
      ]
     },
     "metadata": {},
     "output_type": "display_data"
    },
    {
     "name": "stdout",
     "output_type": "stream",
     "text": [
      "Model and tokenizer loaded successfully!\n",
      "All files are saved in: /raid/sasaki/meta-llama_Llama-3.1-70B-Instruct\n"
     ]
    }
   ],
   "source": [
    "from huggingface_hub import login, HfApi\n",
    "import torch\n",
    "from transformers import AutoTokenizer, AutoModelForCausalLM, BitsAndBytesConfig\n",
    "from transformers.models.llama import LlamaConfig\n",
    "import os\n",
    "import time\n",
    "\n",
    "# Hugging Faceにログイン\n",
    "# 環境変数 HUGGINGFACE_TOKEN が設定されていれば自動的に利用\n",
    "token = os.environ.get(\"HUGGINGFACE_TOKEN\")\n",
    "# モデルディレクトリと保存先パス\n",
    "base_model_name = \"meta-llama/Llama-3.1-70B-Instruct\"\n",
    "\n",
    "# ユーザー名を取得して/raidに保存パスを設定\n",
    "user_dir = os.environ.get(\"USER\")\n",
    "save_directory = f\"/raid/{user_dir}/{base_model_name.replace('/', '_')}\"\n",
    "\n",
    "# 保存ディレクトリを作成\n",
    "os.makedirs(save_directory, exist_ok=True)\n",
    "print(f\"Model will be saved to: {save_directory}\")\n",
    "\n",
    "bnb_config = BitsAndBytesConfig(\n",
    "    load_in_4bit=True, #モデルのロードをint4で行う\n",
    "    bnb_4bit_compute_dtype=torch.bfloat16, #計算はbfloat16で行う(オーバーフロー対策，精度向上)\n",
    "    bnb_4bit_quant_type=\"nf4\",\n",
    "    bnb_4bit_use_double_quant=True,  # ダブル量子化\n",
    "    llm_int8_skip_modules=None  # 全て量子化対象(活性化関数も量子化)\n",
    ")\n",
    "\n",
    "# モデル構成の設定（rope_scaling対策）\n",
    "config = LlamaConfig.from_pretrained(base_model_name, cache_dir=save_directory)\n",
    "if hasattr(config, \"rope_scaling\"):\n",
    "    config.rope_scaling[\"original_max_position_embeddings\"] = 8191  \n",
    "\n",
    "# トークナイザのロード\n",
    "tokenizer = AutoTokenizer.from_pretrained(base_model_name, cache_dir=save_directory, token=token)\n",
    "\n",
    "# pad_token_id を設定（未設定の場合）\n",
    "if tokenizer.pad_token_id is None:\n",
    "    tokenizer.pad_token_id = tokenizer.eos_token_id\n",
    "\n",
    "# 通常モデルのロード\n",
    "model_base = AutoModelForCausalLM.from_pretrained(\n",
    "    base_model_name,\n",
    "    config=config,        \n",
    "    device_map=\"auto\",           \n",
    "    torch_dtype=torch.float64, #通常モデルはfloat64で読み込み，計算も行う\n",
    "    cache_dir=save_directory,    \n",
    "    token=token\n",
    ")\n",
    "\n",
    "# 量子化モデルのロード\n",
    "model_quantized = AutoModelForCausalLM.from_pretrained(\n",
    "    base_model_name,\n",
    "    config=config,   \n",
    "    device_map=\"auto\",           \n",
    "    quantization_config=bnb_config,  \n",
    "    cache_dir=save_directory,   \n",
    "    token=token         \n",
    ")\n",
    "\n",
    "print(\"Model and tokenizer loaded successfully!\")\n",
    "print(f\"All files are saved in: {save_directory}\")\n"
   ]
  },
  {
   "cell_type": "code",
   "execution_count": 2,
   "id": "6c75b575-5c30-467a-9f3d-7c870fc2de70",
   "metadata": {},
   "outputs": [
    {
     "name": "stdout",
     "output_type": "stream",
     "text": [
      "Model Name: Base Model\n",
      "Devices: cuda:0, cuda:1, cuda:2, cuda:3, cuda:4, cuda:5, cuda:6, cuda:7\n",
      "Memory Usage (per GPU):\n",
      "  GPU 0: 68.81 GB\n",
      "  GPU 1: 74.24 GB\n",
      "  GPU 2: 74.24 GB\n",
      "  GPU 3: 74.24 GB\n",
      "  GPU 4: 74.24 GB\n",
      "  GPU 5: 74.24 GB\n",
      "  GPU 6: 74.24 GB\n",
      "  GPU 7: 48.24 GB\n",
      "\n",
      "Model Name: Quantized Model\n",
      "Devices: cuda:0, cuda:1, cuda:2, cuda:3, cuda:4, cuda:5, cuda:6, cuda:7\n",
      "Memory Usage (per GPU):\n",
      "  GPU 0: 68.81 GB\n",
      "  GPU 1: 74.24 GB\n",
      "  GPU 2: 74.24 GB\n",
      "  GPU 3: 74.24 GB\n",
      "  GPU 4: 74.24 GB\n",
      "  GPU 5: 74.24 GB\n",
      "  GPU 6: 74.24 GB\n",
      "  GPU 7: 48.24 GB\n",
      "\n"
     ]
    }
   ],
   "source": [
    "def print_model_device_info(model, model_name):\n",
    "    # モデル全体のデバイス情報を取得\n",
    "    device_set = {param.device for param in model.parameters()}\n",
    "    devices_info = \", \".join(str(device) for device in device_set)\n",
    "\n",
    "    # メモリ使用量を取得\n",
    "    memory_usage = {\n",
    "        f\"GPU {i}\": torch.cuda.memory_allocated(i) / (1024 ** 3)  # GB単位\n",
    "        for i in range(torch.cuda.device_count())\n",
    "    }\n",
    "\n",
    "    # 出力\n",
    "    print(f\"Model Name: {model_name}\")\n",
    "    print(f\"Devices: {devices_info}\")\n",
    "    print(\"Memory Usage (per GPU):\")\n",
    "    for gpu, usage in memory_usage.items():\n",
    "        print(f\"  {gpu}: {usage:.2f} GB\")\n",
    "    print()\n",
    "\n",
    "# モデル情報とメモリフットプリントを表示\n",
    "print_model_device_info(model_base, \"Base Model\")\n",
    "print_model_device_info(model_quantized, \"Quantized Model\")\n",
    "\n",
    "\n"
   ]
  },
  {
   "cell_type": "code",
   "execution_count": 3,
   "id": "bcc586a9-7017-4100-a216-efa19c384892",
   "metadata": {},
   "outputs": [],
   "source": [
    "def generate_output(model, tokenizer, input_text: str) -> str:\n",
    "    \"\"\"\n",
    "    モデルとトークナイザを用いて出力を生成し、'Yes' または 'No' を抽出して返す。\n",
    "    \"\"\"\n",
    "    # プロンプトを作成\n",
    "    prompt = \"Input: {}\\nOutput:\".format(input_text)\n",
    "    \n",
    "    # トークナイズ\n",
    "    inputs = tokenizer(prompt, return_tensors=\"pt\").to(model.device)\n",
    "    \n",
    "    # 不要なフィールドを削除（トークナイザによっては token_type_ids が不要）\n",
    "    if \"token_type_ids\" in inputs:\n",
    "        del inputs[\"token_type_ids\"]\n",
    "\n",
    "    # 応答生成\n",
    "    outputs = model.generate(\n",
    "        **inputs,\n",
    "        max_new_tokens=256,\n",
    "        pad_token_id=tokenizer.pad_token_id,\n",
    "        eos_token_id=tokenizer.eos_token_id,\n",
    "    )\n",
    "    \n",
    "    # 出力をデコード\n",
    "    output_text = tokenizer.decode(outputs[0], skip_special_tokens=True)\n",
    "    \n",
    "    # \"Output:\"以降の部分を取得し、トリム\n",
    "    processed_output = output_text.split(\"Output:\")[-1].strip()\n",
    "    \n",
    "    # 結果を返す（\"Yes\" または \"No\"）\n",
    "    return processed_output"
   ]
  },
  {
   "cell_type": "code",
   "execution_count": null,
   "id": "c27d12f1-3393-4710-b5f8-0cfa6ab5ef40",
   "metadata": {},
   "outputs": [
    {
     "name": "stderr",
     "output_type": "stream",
     "text": [
      "Processing GLUE Dataset:   0%|                 | 7/3668 [01:00<5:44:29,  5.65s/it]"
     ]
    }
   ],
   "source": [
    "from datasets import load_dataset\n",
    "from tqdm import tqdm\n",
    "import pandas as pd\n",
    "import time\n",
    "\n",
    "# GLUEデータセットのロード（例: MRPCタスク）\n",
    "glue_task = \"mrpc\"  # 使用するタスク（ここではMRPCを例とする）\n",
    "glue_dataset = load_dataset(\"glue\", glue_task, split=\"train\") \n",
    "\n",
    "\n",
    "def extract_label_from_output(output: str) -> int:\n",
    "    output = output.strip().lower()\n",
    "    if \"yes\" in output:\n",
    "        return 1\n",
    "    elif \"no\" in output:\n",
    "        return 0\n",
    "    else:\n",
    "        return -1  # デフォルト\n",
    "\n",
    "        \n",
    "# 正答判定関数\n",
    "def is_correct(prediction: int, reference: int) -> int:\n",
    "    \"\"\"\n",
    "    モデルの予測ラベルが参照ラベルと一致しているかを判定します。\n",
    "    \"\"\"\n",
    "    return int(prediction == reference)\n",
    "\n",
    "# 結果を保存するリスト\n",
    "results = []\n",
    "base_output_list = []\n",
    "quantize_output_list = []\n",
    "# データセットを処理\n",
    "for example in tqdm(glue_dataset, desc=\"Processing GLUE Dataset\"):\n",
    "    # 入力文を生成\n",
    "    input_text = f\"Answer only 'Yes' or 'No' based on whether the two sentences have the same meaning. Sentence1: {example['sentence1']} ,Sentence2: {example['sentence2']}.\"\n",
    "\n",
    "\n",
    "    reference_label = example[\"label\"]  # 正解ラベル（0 または 1）\n",
    "\n",
    "    # Baseモデルで生成\n",
    "    start_time = time.time()\n",
    "    base_output = generate_output(model_base, tokenizer, input_text)\n",
    "    base_time = time.time() - start_time\n",
    "    base_predicted_label = extract_label_from_output(base_output)\n",
    "    base_correct = is_correct(base_predicted_label, reference_label)\n",
    "    base_output_list.append(base_output)\n",
    "    # Quantizedモデルで生成\n",
    "    start_time = time.time()\n",
    "    quantized_output = generate_output(model_quantized, tokenizer, input_text)\n",
    "    quantized_time = time.time() - start_time\n",
    "    quantized_predicted_label = extract_label_from_output(quantized_output)\n",
    "    quantized_correct = is_correct(quantized_predicted_label, reference_label)\n",
    "    quantize_output_list.append(quantized_output)\n",
    "    # 結果をリストに追加\n",
    "    results.append({\n",
    "        \"problem\": input_text,\n",
    "        \"reference_label\": reference_label,\n",
    "        \"base_model_predicted\": base_predicted_label,\n",
    "        \"base_model_correct\": base_correct,\n",
    "        \"quantized_model_predicted\": quantized_predicted_label,\n",
    "        \"quantized_model_correct\": quantized_correct,\n",
    "        \"base_model_time\": base_time,\n",
    "        \"quantized_model_time\": quantized_time\n",
    "    })\n",
    "\n",
    "# 結果をデータフレームに変換\n",
    "df_results = pd.DataFrame(results)\n",
    "\n",
    "from datetime import datetime\n",
    "\n",
    "# 現在の日時を取得\n",
    "current_time = datetime.now().strftime(\"%Y%m%d_%H%M%S\") \n",
    "\n",
    "# ファイル名に必要な情報を含める\n",
    "csv_filename = f\"glue_comparison_results_{base_model_name.replace('/', '_')}_{glue_task}_{current_time}.csv\"\n",
    "\n",
    "# 結果をCSVに保存\n",
    "df_results.to_csv(csv_filename, index=False)\n",
    "print(f\"Results saved to {csv_filename}\")"
   ]
  },
  {
   "cell_type": "code",
   "execution_count": null,
   "id": "1a58fcb2-5bca-4b4a-956c-942228f70153",
   "metadata": {},
   "outputs": [],
   "source": [
    "import pandas as pd\n",
    "\n",
    "csv_filename = f\"glue_comparison_results_meta-llama_Llama-3.1-70B-Instruct_mrpc_20241129_162631.csv\"\n",
    "\n",
    "# CSVファイルを読み込む\n",
    "df_results = pd.read_csv(csv_filename)\n",
    "print(f\"Results loaded from {csv_filename}\")\n",
    "\n",
    "# 各種統計情報の計算\n",
    "summary = {\n",
    "    \"base_model_accuracy\": df_results[\"base_model_correct\"].mean() * 100,  # Baseモデルの正答率 (%)\n",
    "    \"quantized_model_accuracy\": df_results[\"quantized_model_correct\"].mean() * 100,  # 量子化モデルの正答率 (%)\n",
    "    \"base_model_avg_time\": df_results[\"base_model_time\"].mean(),  # Baseモデルの平均実行時間 (秒)\n",
    "    \"quantized_model_avg_time\": df_results[\"quantized_model_time\"].mean(),  # 量子化モデルの平均実行時間 (秒)\n",
    "    \"base_model_time_std\": df_results[\"base_model_time\"].std(),  # Baseモデル実行時間の標準偏差 (秒)\n",
    "    \"quantized_model_time_std\": df_results[\"quantized_model_time\"].std()  # 量子化モデル実行時間の標準偏差 (秒)\n",
    "}\n",
    "\n",
    "# 結果を表示\n",
    "print(\"Summary Statistics:\")\n",
    "for key, value in summary.items():\n",
    "    print(f\"{key}: {value:.2f}\")\n",
    "\n",
    "# 結果を新たなデータフレームに変換して保存\n",
    "summary_df = pd.DataFrame([summary])\n",
    "\n",
    "\n"
   ]
  },
  {
   "cell_type": "code",
   "execution_count": 13,
   "id": "b92590d9-0996-4818-af47-df58ed77aebf",
   "metadata": {},
   "outputs": [
    {
     "data": {
      "text/plain": [
       "'Sentence1: Amrozi accused his brother , whom he called \" the witness \" , of deliberately distorting his evidence . Sentence2: Referring to him as only \" the witness \" , Amrozi accused his brother of deliberately distorting his evidence .. Answer only \\'Yes\\' or \\'No\\' based on whether the two sentences have the same meaning.'"
      ]
     },
     "execution_count": 13,
     "metadata": {},
     "output_type": "execute_result"
    }
   ],
   "source": [
    "df_results['problem'][0]"
   ]
  },
  {
   "cell_type": "code",
   "execution_count": 8,
   "id": "87e03d2a-b755-41f3-b958-924ea8f503a3",
   "metadata": {},
   "outputs": [
    {
     "name": "stdout",
     "output_type": "stream",
     "text": [
      "Summary Statistics:\n",
      "base_model_accuracy: 64.50\n",
      "quantized_model_accuracy: 67.50\n",
      "base_model_avg_time: 1.21\n",
      "quantized_model_avg_time: 0.57\n",
      "base_model_time_std: 5.07\n",
      "quantized_model_time_std: 0.05\n"
     ]
    },
    {
     "data": {
      "image/png": "[encoded data removed]",
      "text/plain": [
       "<Figure size 1000x600 with 1 Axes>"
      ]
     },
     "metadata": {},
     "output_type": "display_data"
    }
   ],
   "source": [
    "import pandas as pd\n",
    "import matplotlib.pyplot as plt\n",
    "\n",
    "# 正答率と推論時間の統計情報を計算\n",
    "summary = {\n",
    "    \"base_model_accuracy\": df_results[\"base_model_correct\"].mean() * 100,  # Baseモデルの正答率 (%)\n",
    "    \"quantized_model_accuracy\": df_results[\"quantized_model_correct\"].mean() * 100,  # 量子化モデルの正答率 (%)\n",
    "    \"base_model_avg_time\": df_results[\"base_model_time\"].mean(),  # Baseモデルの平均実行時間 (秒)\n",
    "    \"quantized_model_avg_time\": df_results[\"quantized_model_time\"].mean(),  # 量子化モデルの平均実行時間 (秒)\n",
    "    \"base_model_time_std\": df_results[\"base_model_time\"].std(),  # Baseモデル実行時間の標準偏差 (秒)\n",
    "    \"quantized_model_time_std\": df_results[\"quantized_model_time\"].std()  # 量子化モデル実行時間の標準偏差 (秒)\n",
    "}\n",
    "\n",
    "# 結果を表示\n",
    "print(\"Summary Statistics:\")\n",
    "for key, value in summary.items():\n",
    "    print(f\"{key}: {value:.2f}\")\n",
    "\n",
    "# 推論時間の分布を可視化\n",
    "plt.figure(figsize=(10, 6))\n",
    "\n",
    "# Baseモデルの推論時間\n",
    "plt.hist(df_results[\"base_model_time\"], bins=30, alpha=0.7, label=\"Base Model Time\", color=\"blue\")\n",
    "\n",
    "# 量子化モデルの推論時間\n",
    "plt.hist(df_results[\"quantized_model_time\"], bins=30, alpha=0.7, label=\"Quantized Model Time\", color=\"orange\")\n",
    "\n",
    "# グラフの装飾\n",
    "plt.title(\"Inference Time Distribution\")\n",
    "plt.xlabel(\"Inference Time (seconds)\")\n",
    "plt.ylabel(\"Frequency\")\n",
    "plt.legend()\n",
    "plt.grid(True)\n",
    "\n",
    "# グラフを表示\n",
    "plt.tight_layout()\n",
    "plt.show()\n"
   ]
  },
  {
   "cell_type": "code",
   "execution_count": 9,
   "id": "ecea8808-f384-46b8-8fe3-77f3fb6a28bb",
   "metadata": {},
   "outputs": [
    {
     "data": {
      "image/png": "[encoded data removed]",
      "text/plain": [
       "<Figure size 1200x700 with 1 Axes>"
      ]
     },
     "metadata": {},
     "output_type": "display_data"
    },
    {
     "name": "stdout",
     "output_type": "stream",
     "text": [
      "Label Bias:\n",
      "   Label  Count  Percentage\n",
      "0      1   2474   67.448201\n",
      "1      0   1194   32.551799\n"
     ]
    }
   ],
   "source": [
    "import matplotlib.pyplot as plt\n",
    "\n",
    "# 推論時間の分布を可視化（スケール調整付き）\n",
    "plt.figure(figsize=(12, 7))\n",
    "\n",
    "# Baseモデルの推論時間（ヒストグラムの幅調整）\n",
    "plt.hist(df_results[\"base_model_time\"], bins=50, alpha=0.6, label=\"Base Model Time\", color=\"blue\")\n",
    "\n",
    "# 量子化モデルの推論時間\n",
    "plt.hist(df_results[\"quantized_model_time\"], bins=50, alpha=0.6, label=\"Quantized Model Time\", color=\"orange\")\n",
    "\n",
    "# グラフの装飾\n",
    "plt.title(\"Inference Time Distribution (Scaled)\", fontsize=16)\n",
    "plt.xlabel(\"Inference Time (seconds)\", fontsize=14)\n",
    "plt.ylabel(\"Frequency\", fontsize=14)\n",
    "plt.xticks(fontsize=12)\n",
    "plt.yticks(fontsize=12)\n",
    "plt.legend(fontsize=12)\n",
    "plt.grid(True, linestyle='--', alpha=0.7)\n",
    "\n",
    "# グラフの表示\n",
    "plt.tight_layout()\n",
    "plt.show()\n",
    "\n",
    "# 元のラベルの偏りを確認\n",
    "label_counts = df_results[\"reference_label\"].value_counts()\n",
    "label_bias = label_counts / label_counts.sum() * 100  # 割合計算\n",
    "label_bias_df = pd.DataFrame({\n",
    "    \"Label\": label_counts.index,\n",
    "    \"Count\": label_counts.values,\n",
    "    \"Percentage\": label_bias.values\n",
    "})\n",
    "\n",
    "# ラベル分布を出力\n",
    "print(\"Label Bias:\")\n",
    "print(label_bias_df)\n"
   ]
  },
  {
   "cell_type": "code",
   "execution_count": 10,
   "id": "2bd1fa49-2868-4d92-a6bc-b570639df9d5",
   "metadata": {},
   "outputs": [
    {
     "name": "stdout",
     "output_type": "stream",
     "text": [
      "Count: 996\n",
      "Percentage: 27.15%\n"
     ]
    }
   ],
   "source": [
    "# 条件を満たす行の数を計算\n",
    "count = df_results[df_results[\"quantized_model_time\"] <= df_results[\"base_model_time\"]].shape[0]\n",
    "\n",
    "# 全体の行数を取得\n",
    "total = df_results.shape[0]\n",
    "\n",
    "# 割合を計算\n",
    "percentage = (count / total) * 100\n",
    "\n",
    "# 結果を出力\n",
    "print(f\"Count: {count}\")\n",
    "print(f\"Percentage: {percentage:.2f}%\")\n"
   ]
  },
  {
   "cell_type": "code",
   "execution_count": 22,
   "id": "d2201076-d826-476b-85c9-62ad5404bc85",
   "metadata": {},
   "outputs": [
    {
     "name": "stderr",
     "output_type": "stream",
     "text": [
      "huggingface/tokenizers: The current process just got forked, after parallelism has already been used. Disabling parallelism to avoid deadlocks...\n",
      "To disable this warning, you can either:\n",
      "\t- Avoid using `tokenizers` before the fork if possible\n",
      "\t- Explicitly set the environment variable TOKENIZERS_PARALLELISM=(true | false)\n"
     ]
    },
    {
     "name": "stdout",
     "output_type": "stream",
     "text": [
      "Fri Nov 29 17:44:19 2024       \n",
      "+---------------------------------------------------------------------------------------+\n",
      "| NVIDIA-SMI 535.161.07             Driver Version: 535.161.07   CUDA Version: 12.2     |\n",
      "|-----------------------------------------+----------------------+----------------------+\n",
      "| GPU  Name                 Persistence-M | Bus-Id        Disp.A | Volatile Uncorr. ECC |\n",
      "| Fan  Temp   Perf          Pwr:Usage/Cap |         Memory-Usage | GPU-Util  Compute M. |\n",
      "|                                         |                      |               MIG M. |\n",
      "|=========================================+======================+======================|\n",
      "|   0  NVIDIA H100 80GB HBM3          On  | 00000000:1B:00.0 Off |                    0 |\n",
      "| N/A   29C    P0             101W / 700W |  39730MiB / 81559MiB |      0%      Default |\n",
      "|                                         |                      |             Disabled |\n",
      "+-----------------------------------------+----------------------+----------------------+\n",
      "|   1  NVIDIA H100 80GB HBM3          On  | 00000000:43:00.0 Off |                    0 |\n",
      "| N/A   31C    P0             112W / 700W |  42582MiB / 81559MiB |      0%      Default |\n",
      "|                                         |                      |             Disabled |\n",
      "+-----------------------------------------+----------------------+----------------------+\n",
      "|   2  NVIDIA H100 80GB HBM3          On  | 00000000:52:00.0 Off |                    0 |\n",
      "| N/A   35C    P0             115W / 700W |  42590MiB / 81559MiB |      0%      Default |\n",
      "|                                         |                      |             Disabled |\n",
      "+-----------------------------------------+----------------------+----------------------+\n",
      "|   3  NVIDIA H100 80GB HBM3          On  | 00000000:61:00.0 Off |                    0 |\n",
      "| N/A   34C    P0             117W / 700W |  42598MiB / 81559MiB |      0%      Default |\n",
      "|                                         |                      |             Disabled |\n",
      "+-----------------------------------------+----------------------+----------------------+\n",
      "|   4  NVIDIA H100 80GB HBM3          On  | 00000000:9D:00.0 Off |                    0 |\n",
      "| N/A   31C    P0             113W / 700W |  42686MiB / 81559MiB |      0%      Default |\n",
      "|                                         |                      |             Disabled |\n",
      "+-----------------------------------------+----------------------+----------------------+\n",
      "|   5  NVIDIA H100 80GB HBM3          On  | 00000000:C3:00.0 Off |                    0 |\n",
      "| N/A   30C    P0             115W / 700W |  42590MiB / 81559MiB |      0%      Default |\n",
      "|                                         |                      |             Disabled |\n",
      "+-----------------------------------------+----------------------+----------------------+\n",
      "|   6  NVIDIA H100 80GB HBM3          On  | 00000000:D1:00.0 Off |                    0 |\n",
      "| N/A   35C    P0             119W / 700W |  42590MiB / 81559MiB |      0%      Default |\n",
      "|                                         |                      |             Disabled |\n",
      "+-----------------------------------------+----------------------+----------------------+\n",
      "|   7  NVIDIA H100 80GB HBM3          On  | 00000000:DF:00.0 Off |                    0 |\n",
      "| N/A   36C    P0             123W / 700W |  31554MiB / 81559MiB |      0%      Default |\n",
      "|                                         |                      |             Disabled |\n",
      "+-----------------------------------------+----------------------+----------------------+\n",
      "                                                                                         \n",
      "+---------------------------------------------------------------------------------------+\n",
      "| Processes:                                                                            |\n",
      "|  GPU   GI   CI        PID   Type   Process name                            GPU Memory |\n",
      "|        ID   ID                                                             Usage      |\n",
      "|=======================================================================================|\n",
      "|    0   N/A  N/A   2772734      C   ...quantize-DsDrgNQN-py3.10/bin/python    39006MiB |\n",
      "|    0   N/A  N/A   2871434      C   python3                                     708MiB |\n",
      "|    1   N/A  N/A   2772734      C   ...quantize-DsDrgNQN-py3.10/bin/python    42046MiB |\n",
      "|    1   N/A  N/A   2871434      C   python3                                     520MiB |\n",
      "|    2   N/A  N/A   2772734      C   ...quantize-DsDrgNQN-py3.10/bin/python    42054MiB |\n",
      "|    2   N/A  N/A   2871434      C   python3                                     520MiB |\n",
      "|    3   N/A  N/A   2772734      C   ...quantize-DsDrgNQN-py3.10/bin/python    42062MiB |\n",
      "|    3   N/A  N/A   2871434      C   python3                                     520MiB |\n",
      "|    4   N/A  N/A   2772734      C   ...quantize-DsDrgNQN-py3.10/bin/python    42150MiB |\n",
      "|    4   N/A  N/A   2871434      C   python3                                     520MiB |\n",
      "|    5   N/A  N/A   2772734      C   ...quantize-DsDrgNQN-py3.10/bin/python    42054MiB |\n",
      "|    5   N/A  N/A   2871434      C   python3                                     520MiB |\n",
      "|    6   N/A  N/A   2772734      C   ...quantize-DsDrgNQN-py3.10/bin/python    42054MiB |\n",
      "|    6   N/A  N/A   2871434      C   python3                                     520MiB |\n",
      "|    7   N/A  N/A   2772734      C   ...quantize-DsDrgNQN-py3.10/bin/python    31018MiB |\n",
      "|    7   N/A  N/A   2871434      C   python3                                     520MiB |\n",
      "+---------------------------------------------------------------------------------------+\n"
     ]
    }
   ],
   "source": [
    "!nvidia-smi"
   ]
  },
  {
   "cell_type": "code",
   "execution_count": 9,
   "id": "7f1e4332-a069-46ca-afad-942d7c3b9e78",
   "metadata": {},
   "outputs": [
    {
     "data": {
      "text/plain": [
       "['Yes',\n",
       " 'No',\n",
       " 'No',\n",
       " 'No\\nThe best answer is No.',\n",
       " 'No\\nThe best answer is No.',\n",
       " 'No',\n",
       " 'No',\n",
       " 'No',\n",
       " 'No\\nThe best answer is No.',\n",
       " 'No\\nThe best answer is No.',\n",
       " 'No',\n",
       " 'No\\nThe best answer is No.',\n",
       " 'Yes',\n",
       " 'No',\n",
       " 'No\\nExplanation: The two sentences have different meanings. In the first sentence, the coach was carrying 38 passengers. In the second sentence, the coach driver failed to heed red stop lights. The two sentences are not equivalent in meaning.',\n",
       " 'No\\nThe best answer is No.',\n",
       " 'No\\nThe best answer is No.',\n",
       " 'Yes',\n",
       " 'No',\n",
       " 'No',\n",
       " 'No',\n",
       " 'Yes',\n",
       " 'No\\nThe final answer is: $\\\\boxed{No}$',\n",
       " 'Yes',\n",
       " 'No',\n",
       " 'No',\n",
       " 'No',\n",
       " 'No',\n",
       " 'Yes',\n",
       " 'No\\nThe best answer is No.']"
      ]
     },
     "execution_count": 9,
     "metadata": {},
     "output_type": "execute_result"
    }
   ],
   "source": [
    "base_output_list"
   ]
  },
  {
   "cell_type": "code",
   "execution_count": 13,
   "id": "4b9f1294-5c8c-4405-865a-8a64e4b470df",
   "metadata": {},
   "outputs": [
    {
     "name": "stdout",
     "output_type": "stream",
     "text": [
      "Important information saved to important_info_meta-llama_Llama-3.1-70B-Instruct_mrpc_20241204_114334.txt\n"
     ]
    }
   ],
   "source": [
    "# 重要な情報を収集する\n",
    "important_info = {\n",
    "    \"Dataset\": f\"GLUE - {glue_task}\",\n",
    "    \"Base Model\": base_model_name,\n",
    "    \"Quantization Method\": \"4-bit quantization with BitsAndBytesConfig\",\n",
    "    \"Default Label\": \"0 (not similar, if no match found)\",\n",
    "    \"Base Model Floating Point Precision\": \"float64\",\n",
    "    \"Quantization Config Details\": f\"\"\"\n",
    "        load_in_4bit: {bnb_config.load_in_4bit},\n",
    "        bnb_4bit_compute_dtype: {bnb_config.bnb_4bit_compute_dtype},\n",
    "        bnb_4bit_quant_type: {bnb_config.bnb_4bit_quant_type},\n",
    "        bnb_4bit_use_double_quant: {bnb_config.bnb_4bit_use_double_quant},\n",
    "        llm_int8_skip_modules: {bnb_config.llm_int8_skip_modules}\n",
    "    \"\"\",\n",
    "    \"ROPE Scaling Adjustment\": f\"Enabled with original_max_position_embeddings={config.rope_scaling['original_max_position_embeddings']}\" if hasattr(config, \"rope_scaling\") else \"Not enabled\",\n",
    "    \"Tokenizer Pad Token ID\": f\"{tokenizer.pad_token_id} (EOS token if not explicitly set)\"\n",
    "}\n",
    "\n",
    "# 現在の日時を取得\n",
    "info_filename = f\"important_info_{base_model_name.replace('/', '_')}_{glue_task}_{current_time}.txt\"\n",
    "\n",
    "# テキストファイルに保存\n",
    "with open(info_filename, \"w\") as info_file:\n",
    "    for key, value in important_info.items():\n",
    "        info_file.write(f\"{key}: {value}\\n\")\n",
    "\n",
    "print(f\"Important information saved to {info_filename}\")\n"
   ]
  },
  {
   "cell_type": "code",
   "execution_count": 17,
   "id": "ee62dd07-a839-4bd6-bf99-1a6340e25f7c",
   "metadata": {},
   "outputs": [
    {
     "name": "stdout",
     "output_type": "stream",
     "text": [
      "Yes\n",
      "No\n",
      "Yes\n",
      "No\n",
      "No\n",
      "Yes\n",
      "No\n",
      "No\n",
      "No\n",
      "No\n",
      "No\n",
      "No\n",
      "Yes\n",
      "Yes\n",
      "No\n",
      "Yes\n",
      "No\n",
      "Yes\n",
      "No\n",
      "No\n",
      "No\n",
      "Yes\n",
      "No\n",
      "Yes\n",
      "No\n",
      "Yes\n",
      "No\n",
      "Yes\n",
      "Yes\n",
      "Yes\n"
     ]
    }
   ],
   "source": [
    "for i in range(0,30):\n",
    "    print(quantize_output_list[i])"
   ]
  },
  {
   "cell_type": "code",
   "execution_count": null,
   "id": "5e0c807c-4dc2-448a-84bd-12e015f433c7",
   "metadata": {},
   "outputs": [],
   "source": []
  }
 ],
 "metadata": {
  "kernelspec": {
   "display_name": "Python 3 (ipykernel)",
   "language": "python",
   "name": "python3"
  },
  "language_info": {
   "codemirror_mode": {
    "name": "ipython",
    "version": 3
   },
   "file_extension": ".py",
   "mimetype": "text/x-python",
   "name": "python",
   "nbconvert_exporter": "python",
   "pygments_lexer": "ipython3",
   "version": "3.10.12"
  }
 },
 "nbformat": 4,
 "nbformat_minor": 5
}
