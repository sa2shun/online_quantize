{
 "cells": [
  {
   "cell_type": "code",
   "execution_count": 1,
   "id": "d24954bf-a81c-4d9d-9fde-98ec25b50b66",
   "metadata": {},
   "outputs": [
    {
     "data": {
      "application/vnd.jupyter.widget-view+json": {
       "model_id": "8bc7a4316645438fb557d0f3ae44fa8b",
       "version_major": 2,
       "version_minor": 0
      },
      "text/plain": [
       "Loading checkpoint shards:   0%|          | 0/2 [00:00<?, ?it/s]"
      ]
     },
     "metadata": {},
     "output_type": "display_data"
    },
    {
     "data": {
      "application/vnd.jupyter.widget-view+json": {
       "model_id": "09e08b4443ac4b86b5a8f0609fa00619",
       "version_major": 2,
       "version_minor": 0
      },
      "text/plain": [
       "Loading checkpoint shards:   0%|          | 0/2 [00:00<?, ?it/s]"
      ]
     },
     "metadata": {},
     "output_type": "display_data"
    }
   ],
   "source": [
    "import torch\n",
    "from transformers import AutoTokenizer, AutoModelForCausalLM, BitsAndBytesConfig\n",
    "from datasets import load_dataset\n",
    "from sklearn.model_selection import train_test_split\n",
    "import pandas as pd\n",
    "from tqdm import tqdm\n",
    "import time\n",
    "\n",
    "# モデルディレクトリ\n",
    "base_model_name = \"llm-jp/llm-jp-3-3.7b\"\n",
    "\n",
    "# int4量子化の設定\n",
    "bnb_config = BitsAndBytesConfig(\n",
    "    load_in_4bit=True,\n",
    "    bnb_4bit_compute_dtype=torch.float16  # 計算をfloat16で実行\n",
    ")\n",
    "\n",
    "# トークナイザとモデルのロード\n",
    "tokenizer_base = AutoTokenizer.from_pretrained(base_model_name)\n",
    "model_base = AutoModelForCausalLM.from_pretrained(\n",
    "    base_model_name,\n",
    "    device_map=\"auto\",\n",
    "    torch_dtype=torch.float32\n",
    ")\n",
    "\n",
    "model_base_quantized = AutoModelForCausalLM.from_pretrained(\n",
    "    base_model_name,\n",
    "    device_map=\"auto\",\n",
    "    quantization_config=bnb_config\n",
    ")"
   ]
  },
  {
   "cell_type": "code",
   "execution_count": 2,
   "id": "e68f34ac-64fe-480f-99a5-a6c486a1d978",
   "metadata": {},
   "outputs": [
    {
     "name": "stdout",
     "output_type": "stream",
     "text": [
      "Base Model is distributed across:\n",
      "  cuda:0: 3782913024 parameters\n",
      "\n",
      "Quantized Model is distributed across:\n",
      "  cuda:0: 2197466112 parameters\n",
      "\n"
     ]
    }
   ],
   "source": [
    "# モデルのデバイスを表示\n",
    "def print_model_device(model, model_name=\"Model\"):\n",
    "    \"\"\"\n",
    "    モデルのデバイスを表示する関数\n",
    "    \"\"\"\n",
    "    device_count = {}\n",
    "    for name, param in model.named_parameters():\n",
    "        device = param.device\n",
    "        if device in device_count:\n",
    "            device_count[device] += param.numel()\n",
    "        else:\n",
    "            device_count[device] = param.numel()\n",
    "    \n",
    "    print(f\"{model_name} is distributed across:\")\n",
    "    for device, count in device_count.items():\n",
    "        print(f\"  {device}: {count} parameters\")\n",
    "    print()\n",
    "\n",
    "# Base model のデバイス情報を表示\n",
    "print_model_device(model_base, model_name=\"Base Model\")\n",
    "\n",
    "# Quantized model のデバイス情報を表示\n",
    "print_model_device(model_base_quantized, model_name=\"Quantized Model\")\n"
   ]
  },
  {
   "cell_type": "code",
   "execution_count": 3,
   "id": "4ffcf040-b1f3-4273-b73b-f985bb919bd4",
   "metadata": {},
   "outputs": [],
   "source": [
    "# JGLUEデータセットのロード\n",
    "jglue_dataset = load_dataset(\"shunk031/JGLUE\", \"JNLI\", cache_dir=\"./datasets_cache\")\n",
    "\n",
    "\n",
    "\n",
    "# データセットを分割\n",
    "train_data = jglue_dataset[\"train\"]\n",
    "validation_data = jglue_dataset[\"validation\"]\n",
    "\n",
    "# テストデータをデータフレームに変換\n",
    "train_data_df = pd.DataFrame(train_data)"
   ]
  },
  {
   "cell_type": "code",
   "execution_count": 4,
   "id": "aeeac332-fb48-4575-95fe-8bfa7a48cfc1",
   "metadata": {},
   "outputs": [],
   "source": [
    "def evaluate_and_record(model, tokenizer, dataset, model_name=\"Model\"):\n",
    "    \"\"\"\n",
    "    モデルを評価し、正解・不正解を記録する。\n",
    "    \"\"\"\n",
    "    results = []\n",
    "    start_time = time.time()  # 実行時間計測開始\n",
    "    for idx, sample in enumerate(tqdm(dataset, desc=f\"Evaluating {model_name}\")):\n",
    "        input_text = sample[\"sentence1\"] + \" \" + sample.get(\"sentence2\", \"\")  # NLIタスク用\n",
    "        label = str(sample[\"label\"])  # ラベルを文字列化（モデルの出力と比較するため）\n",
    "\n",
    "        # モデルで出力生成\n",
    "        inputs = tokenizer(input_text, return_tensors=\"pt\", truncation=True, max_length=512).to(model.device)\n",
    "\n",
    "        # 不要なフィールドを削除\n",
    "        if \"token_type_ids\" in inputs:\n",
    "            del inputs[\"token_type_ids\"]\n",
    "\n",
    "        # 生成\n",
    "        outputs = model.generate(**inputs, max_new_tokens=10, pad_token_id=tokenizer.pad_token_id)\n",
    "        prediction = tokenizer.decode(outputs[0], skip_special_tokens=True).strip()\n",
    "\n",
    "        # 予測結果を記録\n",
    "        results.append({\n",
    "            \"id\": idx,\n",
    "            \"input\": input_text,\n",
    "            \"label\": label,\n",
    "            \"prediction\": prediction\n",
    "        })\n",
    "\n",
    "    # 実行時間計測終了\n",
    "    end_time = time.time()\n",
    "    print(f\"{model_name} evaluation completed in {end_time - start_time:.2f} seconds.\")\n",
    "\n",
    "    return pd.DataFrame(results)"
   ]
  },
  {
   "cell_type": "code",
   "execution_count": 5,
   "id": "0f2ab10f-4c2e-4368-add6-daa2f3b59c79",
   "metadata": {},
   "outputs": [
    {
     "name": "stdout",
     "output_type": "stream",
     "text": [
      "Evaluating Base Model...\n"
     ]
    },
    {
     "name": "stderr",
     "output_type": "stream",
     "text": [
      "Evaluating Base Model: 100%|██████████████| 20073/20073 [1:18:14<00:00,  4.28it/s]\n"
     ]
    },
    {
     "name": "stdout",
     "output_type": "stream",
     "text": [
      "Base Model evaluation completed in 4694.27 seconds.\n",
      "Evaluating Quantized Model...\n"
     ]
    },
    {
     "name": "stderr",
     "output_type": "stream",
     "text": [
      "Evaluating Quantized Model: 100%|█████████| 20073/20073 [1:27:33<00:00,  3.82it/s]\n"
     ]
    },
    {
     "name": "stdout",
     "output_type": "stream",
     "text": [
      "Quantized Model evaluation completed in 5253.60 seconds.\n",
      "   id                                   input_base label_base  \\\n",
      "0   0  二人の男性がジャンボジェット機を見ています。 2人の男性が、白い飛行機を眺めています。          2   \n",
      "1   1  2人の男性が、白い飛行機を眺めています。 二人の男性がジャンボジェット機を見ています。          2   \n",
      "2   2      男性が子供を抱き上げて立っています。 坊主頭の男性が子供を抱いて立っています。          2   \n",
      "3   3      坊主頭の男性が子供を抱いて立っています。 男性が子供を抱き上げて立っています。          0   \n",
      "4   4        草地の上で牛と男性が立っています。 農場で白い牛が男性の隣に立っています。          2   \n",
      "\n",
      "                                     prediction_base  is_correct_base  \\\n",
      "0  二人の男性がジャンボジェット機を見ています。 2人の男性が、白い飛行機を眺めています。\\n\\...            False   \n",
      "1  2人の男性が、白い飛行機を眺めています。 二人の男性がジャンボジェット機を見ています。\\n\\...            False   \n",
      "2  男性が子供を抱き上げて立っています。 坊主頭の男性が子供を抱いて立っています。\\n\\n## ...            False   \n",
      "3  坊主頭の男性が子供を抱いて立っています。 男性が子供を抱き上げて立っています。 男性は子供を...            False   \n",
      "4  草地の上で牛と男性が立っています。 農場で白い牛が男性の隣に立っています。\\n\\n## 牛の...            False   \n",
      "\n",
      "                               input_quantized label_quantized  \\\n",
      "0  二人の男性がジャンボジェット機を見ています。 2人の男性が、白い飛行機を眺めています。               2   \n",
      "1  2人の男性が、白い飛行機を眺めています。 二人の男性がジャンボジェット機を見ています。               2   \n",
      "2      男性が子供を抱き上げて立っています。 坊主頭の男性が子供を抱いて立っています。               2   \n",
      "3      坊主頭の男性が子供を抱いて立っています。 男性が子供を抱き上げて立っています。               0   \n",
      "4        草地の上で牛と男性が立っています。 農場で白い牛が男性の隣に立っています。               2   \n",
      "\n",
      "                                prediction_quantized  is_correct_quantized  \\\n",
      "0  二人の男性がジャンボジェット機を見ています。 2人の男性が、白い飛行機を眺めています。\\n\\...                 False   \n",
      "1  2人の男性が、白い飛行機を眺めています。 二人の男性がジャンボジェット機を見ています。\\n\\...                 False   \n",
      "2  男性が子供を抱き上げて立っています。 坊主頭の男性が子供を抱いて立っています。\\n\\n## ...                 False   \n",
      "3  坊主頭の男性が子供を抱いて立っています。 男性が子供を抱き上げて立っています。 男性が子供を...                 False   \n",
      "4      草地の上で牛と男性が立っています。 農場で白い牛が男性の隣に立っています。\\n\\n## 🎨                 False   \n",
      "\n",
      "   comparison  \n",
      "0  both_wrong  \n",
      "1  both_wrong  \n",
      "2  both_wrong  \n",
      "3  both_wrong  \n",
      "4  both_wrong  \n"
     ]
    }
   ],
   "source": [
    "# Base model の評価\n",
    "print(\"Evaluating Base Model...\")\n",
    "base_results = evaluate_and_record(model_base, tokenizer_base, train_data, model_name=\"Base Model\")\n",
    "\n",
    "# Quantized model の評価\n",
    "print(\"Evaluating Quantized Model...\")\n",
    "quantized_results = evaluate_and_record(model_base_quantized, tokenizer_base, train_data, model_name=\"Quantized Model\")\n",
    "\n",
    "# 正解ラベルとの一致を判定\n",
    "base_results[\"is_correct_base\"] = base_results[\"prediction\"] == base_results[\"label\"]\n",
    "quantized_results[\"is_correct_quantized\"] = quantized_results[\"prediction\"] == quantized_results[\"label\"]\n",
    "\n",
    "# 両モデルの結果を結合\n",
    "merged_results = pd.merge(base_results, quantized_results, on=\"id\", suffixes=(\"_base\", \"_quantized\"))\n",
    "\n",
    "# 各モデルの正誤比較を記録\n",
    "merged_results[\"comparison\"] = merged_results.apply(\n",
    "    lambda row: \"both_correct\" if row[\"is_correct_base\"] and row[\"is_correct_quantized\"]\n",
    "    else \"base_correct\" if row[\"is_correct_base\"]\n",
    "    else \"quantized_correct\" if row[\"is_correct_quantized\"]\n",
    "    else \"both_wrong\",\n",
    "    axis=1\n",
    ")\n",
    "\n",
    "# 結果をCSVに保存\n",
    "merged_results.to_csv(\"evaluation_results.csv\", index=False)\n",
    "\n",
    "# 結果を表示\n",
    "print(merged_results.head())"
   ]
  },
  {
   "cell_type": "code",
   "execution_count": 7,
   "id": "4dbf16b4-50c8-47e0-96b0-a4098e4855db",
   "metadata": {},
   "outputs": [
    {
     "data": {
      "text/html": [
       "<div>\n",
       "<style scoped>\n",
       "    .dataframe tbody tr th:only-of-type {\n",
       "        vertical-align: middle;\n",
       "    }\n",
       "\n",
       "    .dataframe tbody tr th {\n",
       "        vertical-align: top;\n",
       "    }\n",
       "\n",
       "    .dataframe thead th {\n",
       "        text-align: right;\n",
       "    }\n",
       "</style>\n",
       "<table border=\"1\" class=\"dataframe\">\n",
       "  <thead>\n",
       "    <tr style=\"text-align: right;\">\n",
       "      <th></th>\n",
       "      <th>id</th>\n",
       "      <th>input_base</th>\n",
       "      <th>label_base</th>\n",
       "      <th>prediction_base</th>\n",
       "      <th>is_correct_base</th>\n",
       "      <th>input_quantized</th>\n",
       "      <th>label_quantized</th>\n",
       "      <th>prediction_quantized</th>\n",
       "      <th>is_correct_quantized</th>\n",
       "      <th>comparison</th>\n",
       "    </tr>\n",
       "  </thead>\n",
       "  <tbody>\n",
       "    <tr>\n",
       "      <th>0</th>\n",
       "      <td>0</td>\n",
       "      <td>二人の男性がジャンボジェット機を見ています。 2人の男性が、白い飛行機を眺めています。</td>\n",
       "      <td>2</td>\n",
       "      <td>二人の男性がジャンボジェット機を見ています。 2人の男性が、白い飛行機を眺めています。\\n\\...</td>\n",
       "      <td>False</td>\n",
       "      <td>二人の男性がジャンボジェット機を見ています。 2人の男性が、白い飛行機を眺めています。</td>\n",
       "      <td>2</td>\n",
       "      <td>二人の男性がジャンボジェット機を見ています。 2人の男性が、白い飛行機を眺めています。\\n\\...</td>\n",
       "      <td>False</td>\n",
       "      <td>both_wrong</td>\n",
       "    </tr>\n",
       "    <tr>\n",
       "      <th>1</th>\n",
       "      <td>1</td>\n",
       "      <td>2人の男性が、白い飛行機を眺めています。 二人の男性がジャンボジェット機を見ています。</td>\n",
       "      <td>2</td>\n",
       "      <td>2人の男性が、白い飛行機を眺めています。 二人の男性がジャンボジェット機を見ています。\\n\\...</td>\n",
       "      <td>False</td>\n",
       "      <td>2人の男性が、白い飛行機を眺めています。 二人の男性がジャンボジェット機を見ています。</td>\n",
       "      <td>2</td>\n",
       "      <td>2人の男性が、白い飛行機を眺めています。 二人の男性がジャンボジェット機を見ています。\\n\\...</td>\n",
       "      <td>False</td>\n",
       "      <td>both_wrong</td>\n",
       "    </tr>\n",
       "    <tr>\n",
       "      <th>2</th>\n",
       "      <td>2</td>\n",
       "      <td>男性が子供を抱き上げて立っています。 坊主頭の男性が子供を抱いて立っています。</td>\n",
       "      <td>2</td>\n",
       "      <td>男性が子供を抱き上げて立っています。 坊主頭の男性が子供を抱いて立っています。\\n\\n## ...</td>\n",
       "      <td>False</td>\n",
       "      <td>男性が子供を抱き上げて立っています。 坊主頭の男性が子供を抱いて立っています。</td>\n",
       "      <td>2</td>\n",
       "      <td>男性が子供を抱き上げて立っています。 坊主頭の男性が子供を抱いて立っています。\\n\\n## ...</td>\n",
       "      <td>False</td>\n",
       "      <td>both_wrong</td>\n",
       "    </tr>\n",
       "    <tr>\n",
       "      <th>3</th>\n",
       "      <td>3</td>\n",
       "      <td>坊主頭の男性が子供を抱いて立っています。 男性が子供を抱き上げて立っています。</td>\n",
       "      <td>0</td>\n",
       "      <td>坊主頭の男性が子供を抱いて立っています。 男性が子供を抱き上げて立っています。 男性は子供を...</td>\n",
       "      <td>False</td>\n",
       "      <td>坊主頭の男性が子供を抱いて立っています。 男性が子供を抱き上げて立っています。</td>\n",
       "      <td>0</td>\n",
       "      <td>坊主頭の男性が子供を抱いて立っています。 男性が子供を抱き上げて立っています。 男性が子供を...</td>\n",
       "      <td>False</td>\n",
       "      <td>both_wrong</td>\n",
       "    </tr>\n",
       "    <tr>\n",
       "      <th>4</th>\n",
       "      <td>4</td>\n",
       "      <td>草地の上で牛と男性が立っています。 農場で白い牛が男性の隣に立っています。</td>\n",
       "      <td>2</td>\n",
       "      <td>草地の上で牛と男性が立っています。 農場で白い牛が男性の隣に立っています。\\n\\n## 牛の...</td>\n",
       "      <td>False</td>\n",
       "      <td>草地の上で牛と男性が立っています。 農場で白い牛が男性の隣に立っています。</td>\n",
       "      <td>2</td>\n",
       "      <td>草地の上で牛と男性が立っています。 農場で白い牛が男性の隣に立っています。\\n\\n## 🎨</td>\n",
       "      <td>False</td>\n",
       "      <td>both_wrong</td>\n",
       "    </tr>\n",
       "  </tbody>\n",
       "</table>\n",
       "</div>"
      ],
      "text/plain": [
       "   id                                   input_base label_base  \\\n",
       "0   0  二人の男性がジャンボジェット機を見ています。 2人の男性が、白い飛行機を眺めています。          2   \n",
       "1   1  2人の男性が、白い飛行機を眺めています。 二人の男性がジャンボジェット機を見ています。          2   \n",
       "2   2      男性が子供を抱き上げて立っています。 坊主頭の男性が子供を抱いて立っています。          2   \n",
       "3   3      坊主頭の男性が子供を抱いて立っています。 男性が子供を抱き上げて立っています。          0   \n",
       "4   4        草地の上で牛と男性が立っています。 農場で白い牛が男性の隣に立っています。          2   \n",
       "\n",
       "                                     prediction_base  is_correct_base  \\\n",
       "0  二人の男性がジャンボジェット機を見ています。 2人の男性が、白い飛行機を眺めています。\\n\\...            False   \n",
       "1  2人の男性が、白い飛行機を眺めています。 二人の男性がジャンボジェット機を見ています。\\n\\...            False   \n",
       "2  男性が子供を抱き上げて立っています。 坊主頭の男性が子供を抱いて立っています。\\n\\n## ...            False   \n",
       "3  坊主頭の男性が子供を抱いて立っています。 男性が子供を抱き上げて立っています。 男性は子供を...            False   \n",
       "4  草地の上で牛と男性が立っています。 農場で白い牛が男性の隣に立っています。\\n\\n## 牛の...            False   \n",
       "\n",
       "                               input_quantized label_quantized  \\\n",
       "0  二人の男性がジャンボジェット機を見ています。 2人の男性が、白い飛行機を眺めています。               2   \n",
       "1  2人の男性が、白い飛行機を眺めています。 二人の男性がジャンボジェット機を見ています。               2   \n",
       "2      男性が子供を抱き上げて立っています。 坊主頭の男性が子供を抱いて立っています。               2   \n",
       "3      坊主頭の男性が子供を抱いて立っています。 男性が子供を抱き上げて立っています。               0   \n",
       "4        草地の上で牛と男性が立っています。 農場で白い牛が男性の隣に立っています。               2   \n",
       "\n",
       "                                prediction_quantized  is_correct_quantized  \\\n",
       "0  二人の男性がジャンボジェット機を見ています。 2人の男性が、白い飛行機を眺めています。\\n\\...                 False   \n",
       "1  2人の男性が、白い飛行機を眺めています。 二人の男性がジャンボジェット機を見ています。\\n\\...                 False   \n",
       "2  男性が子供を抱き上げて立っています。 坊主頭の男性が子供を抱いて立っています。\\n\\n## ...                 False   \n",
       "3  坊主頭の男性が子供を抱いて立っています。 男性が子供を抱き上げて立っています。 男性が子供を...                 False   \n",
       "4      草地の上で牛と男性が立っています。 農場で白い牛が男性の隣に立っています。\\n\\n## 🎨                 False   \n",
       "\n",
       "   comparison  \n",
       "0  both_wrong  \n",
       "1  both_wrong  \n",
       "2  both_wrong  \n",
       "3  both_wrong  \n",
       "4  both_wrong  "
      ]
     },
     "execution_count": 7,
     "metadata": {},
     "output_type": "execute_result"
    }
   ],
   "source": [
    "merged_results.head()"
   ]
  },
  {
   "cell_type": "code",
   "execution_count": 6,
   "id": "280f1d41-ea63-4c41-9bd7-11e9a8e736d3",
   "metadata": {},
   "outputs": [
    {
     "name": "stdout",
     "output_type": "stream",
     "text": [
      "1. 全件数: 20073\n",
      "2. Baseモデルの正解数: 0 (正答率: 0.00%)\n",
      "3. Quantizedモデルの正解数: 0 (正答率: 0.00%)\n",
      "4. (Baseモデルで正解 ∧ Quantizedモデルで不正解) / (Baseモデルで正解の件数): nan%\n"
     ]
    },
    {
     "name": "stderr",
     "output_type": "stream",
     "text": [
      "/tmp/ipykernel_2145333/2911586676.py:16: RuntimeWarning: invalid value encountered in scalar divide\n",
      "  base_correct_quantized_wrong_ratio = base_correct_quantized_wrong_count / base_correct_count\n"
     ]
    }
   ],
   "source": [
    "# 1. 全件数\n",
    "total_count = len(merged_results)\n",
    "\n",
    "# 2. baseモデルの正解数と正答率\n",
    "base_correct_count = merged_results[\"is_correct_base\"].sum()\n",
    "base_accuracy = base_correct_count / total_count\n",
    "\n",
    "# 3. quantizeモデルの正解数と正答率\n",
    "quantized_correct_count = merged_results[\"is_correct_quantized\"].sum()\n",
    "quantized_accuracy = quantized_correct_count / total_count\n",
    "\n",
    "# 4. (baseモデルで正解 ∧ quantizeで不正解) / (baseモデルで正解の件数)\n",
    "base_correct_quantized_wrong_count = merged_results[\n",
    "    (merged_results[\"is_correct_base\"] == True) & (merged_results[\"is_correct_quantized\"] == False)\n",
    "].shape[0]\n",
    "base_correct_quantized_wrong_ratio = base_correct_quantized_wrong_count / base_correct_count\n",
    "\n",
    "# 結果の出力\n",
    "print(f\"1. 全件数: {total_count}\")\n",
    "print(f\"2. Baseモデルの正解数: {base_correct_count} (正答率: {base_accuracy:.2%})\")\n",
    "print(f\"3. Quantizedモデルの正解数: {quantized_correct_count} (正答率: {quantized_accuracy:.2%})\")\n",
    "print(f\"4. (Baseモデルで正解 ∧ Quantizedモデルで不正解) / (Baseモデルで正解の件数): {base_correct_quantized_wrong_ratio:.2%}\")\n"
   ]
  },
  {
   "cell_type": "code",
   "execution_count": null,
   "id": "c1c3b5a9-8868-4b1d-9f0b-30a3280ce524",
   "metadata": {},
   "outputs": [],
   "source": []
  }
 ],
 "metadata": {
  "kernelspec": {
   "display_name": "Python 3 (ipykernel)",
   "language": "python",
   "name": "python3"
  },
  "language_info": {
   "codemirror_mode": {
    "name": "ipython",
    "version": 3
   },
   "file_extension": ".py",
   "mimetype": "text/x-python",
   "name": "python",
   "nbconvert_exporter": "python",
   "pygments_lexer": "ipython3",
   "version": "3.10.12"
  }
 },
 "nbformat": 4,
 "nbformat_minor": 5
}
