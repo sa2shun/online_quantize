{
 "cells": [
  {
   "cell_type": "code",
   "execution_count": 1,
   "id": "92a3ac42-8ffa-4912-aad4-8852d156d939",
   "metadata": {},
   "outputs": [
    {
     "name": "stdout",
     "output_type": "stream",
     "text": [
      "GPU memory used before loading base model: 0.00 GiB\n"
     ]
    },
    {
     "data": {
      "application/vnd.jupyter.widget-view+json": {
       "model_id": "3963d216c7ec44cbaab191a02dc7880c",
       "version_major": 2,
       "version_minor": 0
      },
      "text/plain": [
       "Loading checkpoint shards:   0%|          | 0/30 [00:00<?, ?it/s]"
      ]
     },
     "metadata": {},
     "output_type": "display_data"
    },
    {
     "name": "stdout",
     "output_type": "stream",
     "text": [
      "GPU memory used after loading base model: 525.67 GiB\n",
      "GPU memory used by the base model: 525.67 GiB\n"
     ]
    }
   ],
   "source": [
    "import torch\n",
    "from transformers import AutoTokenizer, AutoModelForCausalLM, BitsAndBytesConfig\n",
    "from transformers.models.llama import LlamaConfig\n",
    "import os\n",
    "\n",
    "# GPU使用量を計算する関数\n",
    "def get_total_gpu_memory_used():\n",
    "    gpu_memory_used = 0\n",
    "    for i in range(torch.cuda.device_count()):\n",
    "        gpu_memory_used += torch.cuda.memory_allocated(i)\n",
    "    return gpu_memory_used / (1024 ** 3)  # GiB単位に変換\n",
    "\n",
    "# モデル名と保存先の設定\n",
    "base_model_name = \"meta-llama/Llama-3.1-70B-Instruct\"\n",
    "user_dir = os.environ.get(\"USER\")\n",
    "save_directory = f\"/raid/{user_dir}/{base_model_name.replace('/', '_')}\"\n",
    "os.makedirs(save_directory, exist_ok=True)\n",
    "\n",
    "bnb_config = BitsAndBytesConfig(\n",
    "    load_in_4bit=True,\n",
    "    bnb_4bit_compute_dtype=torch.bfloat16,\n",
    "    bnb_4bit_quant_type=\"nf4\",\n",
    "    bnb_4bit_use_double_quant=True\n",
    ")\n",
    "\n",
    "# GPU使用量を記録（モデルロード前）\n",
    "torch.cuda.empty_cache()\n",
    "memory_used_before = get_total_gpu_memory_used()\n",
    "print(f\"GPU memory used before loading model: {memory_used_before:.2f} GiB\")\n",
    "\n",
    "# モデル構成の設定\n",
    "config = LlamaConfig.from_pretrained(base_model_name, cache_dir=save_directory)\n",
    "\n",
    "# 量子化モデルのロード\n",
    "model_quantized = AutoModelForCausalLM.from_pretrained(\n",
    "    base_model_name,\n",
    "    config=config,\n",
    "    device_map=\"auto\",\n",
    "    quantization_config=bnb_config,\n",
    "    cache_dir=save_directory,\n",
    "    token=os.environ.get(\"HUGGINGFACE_TOKEN\")\n",
    ")\n",
    "\n",
    "# GPU使用量を記録（モデルロード後）\n",
    "memory_used_after = get_total_gpu_memory_used()\n",
    "print(f\"GPU memory used after loading model: {memory_used_after:.2f} GiB\")\n",
    "\n",
    "# ロードにより増加したGPU使用量を表示\n",
    "memory_used_by_model = memory_used_after - memory_used_before\n",
    "print(f\"GPU memory used by the quantized model: {memory_used_by_model:.2f} GiB\")\n"
   ]
  },
  {
   "cell_type": "code",
   "execution_count": null,
   "id": "84d89c97-fd14-4a72-a468-fa27597cd659",
   "metadata": {},
   "outputs": [],
   "source": []
  }
 ],
 "metadata": {
  "kernelspec": {
   "display_name": "Python 3 (ipykernel)",
   "language": "python",
   "name": "python3"
  },
  "language_info": {
   "codemirror_mode": {
    "name": "ipython",
    "version": 3
   },
   "file_extension": ".py",
   "mimetype": "text/x-python",
   "name": "python",
   "nbconvert_exporter": "python",
   "pygments_lexer": "ipython3",
   "version": "3.10.12"
  }
 },
 "nbformat": 4,
 "nbformat_minor": 5
}
